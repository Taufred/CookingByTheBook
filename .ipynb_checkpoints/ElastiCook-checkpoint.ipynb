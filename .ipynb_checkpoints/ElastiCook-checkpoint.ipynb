{
 "cells": [
  {
   "cell_type": "code",
   "execution_count": 9,
   "metadata": {},
   "outputs": [],
   "source": [
    "## If you run for first time uncomment these\n",
    "#!pip install elasticsearch\n",
    "from sklearn.feature_extraction.text import TfidfVectorizer\n",
    "from sklearn.metrics.pairwise import cosine_similarity\n",
    "import json\n",
    "from scipy import spatial\n",
    "from elasticsearch import Elasticsearch"
   ]
  },
  {
   "cell_type": "code",
   "execution_count": 2,
   "metadata": {},
   "outputs": [],
   "source": [
    "recipes = []\n",
    "with open('recipes_raw_nosource_ar.json') as json_file: #make sure the recipe json is in same dir\n",
    "    data = json.load(json_file)\n",
    "    for p in data:\n",
    "        recipes.append(data[p])\n",
    "es = Elasticsearch()\n",
    "for i in range(0,len(recipes[:10000])): #i took only first 120 recipes because time and size\n",
    "    res = es.index(index='recipes', doc_type='recipe', id=i, body=recipes[i])"
   ]
  },
  {
   "cell_type": "code",
   "execution_count": 17,
   "metadata": {},
   "outputs": [],
   "source": [
    "def giveResults(query, personal):\n",
    "    res = es.search(index=\"recipes\", body={\"query\": {\"bool\": { \"must\": [{\"match\":{\"ingredients\":query} }]}},\"size\":500})\n",
    "    presults = [] #personalized\n",
    "    mscores = [] # new scores for personalized results\n",
    "    results = [] #unpersonalized\n",
    "    for hit in res['hits']['hits']:\n",
    "        results.append((hit['_source']['title'],hit['_score']))\n",
    "        ingr = ''\n",
    "        for s in hit['_source']['ingredients']:\n",
    "            ingr += s\n",
    "        documents = (ingr,personal)\n",
    "        tfidf_vectorizer=TfidfVectorizer()\n",
    "        tfidf_matrix=tfidf_vectorizer.fit_transform(documents)\n",
    "        cs = 100 * cosine_similarity(tfidf_matrix[0:1],tfidf_matrix)\n",
    "        mscores.append((hit['_source'],hit['_score']+cs[0][1]))\n",
    "    mscores.sort(key=lambda t: t[1],reverse=True)\n",
    "    for t in mscores:\n",
    "        presults.append((t[0]['title'],t[1]))\n",
    "    return presults, results"
   ]
  },
  {
   "cell_type": "code",
   "execution_count": 18,
   "metadata": {},
   "outputs": [],
   "source": [
    "janswish = \"rice chicken+legs pepper curry garlic melon tomatoes\"\n",
    "jansingr = \"pizza+dough tomato+paste mushroom ham peppers mozzarella\""
   ]
  },
  {
   "cell_type": "code",
   "execution_count": 19,
   "metadata": {},
   "outputs": [],
   "source": [
    "presults, results = giveResults(janswish,jansingr)"
   ]
  },
  {
   "cell_type": "code",
   "execution_count": 20,
   "metadata": {},
   "outputs": [
    {
     "data": {
      "text/plain": [
       "[(\"Loga's Microwave Chicken\", 18.348154),\n",
       " ('Heinz® Butter Chicken', 15.366940856246043),\n",
       " ('Duck Adobo', 14.620447615413262),\n",
       " ('Parsley Butter Seasoned Chicken', 14.590122),\n",
       " ('Chicken and Melon Salad', 14.473536),\n",
       " ('Fettuccine Bombay', 14.329610894229354),\n",
       " ('Smoked Turkey Wild Rice Soup', 14.029068),\n",
       " ('Punjabi Chicken in Thick Gravy', 13.652970122630048),\n",
       " ('Easy Tortilla Soup', 13.581620395983325),\n",
       " ('Jambalaya II', 13.352288763590092)]"
      ]
     },
     "execution_count": 20,
     "metadata": {},
     "output_type": "execute_result"
    }
   ],
   "source": [
    "presults[:10]"
   ]
  },
  {
   "cell_type": "code",
   "execution_count": 21,
   "metadata": {},
   "outputs": [
    {
     "data": {
      "text/plain": [
       "[(\"Loga's Microwave Chicken\", 18.348154),\n",
       " ('Parsley Butter Seasoned Chicken', 14.590122),\n",
       " ('Chicken and Melon Salad', 14.473536),\n",
       " ('Smoked Turkey Wild Rice Soup', 14.029068),\n",
       " ('Easy Italian  Chicken', 12.908751),\n",
       " ('Duck Adobo', 12.729704),\n",
       " ('Mediterranean Lemon Chicken', 12.463613),\n",
       " ('Chicken with Red Chile Sauce and Sausage (Pollo con Salsa Rojo y Chorizo)',\n",
       "  12.317663),\n",
       " ('Tater Crisp Chicken', 11.919665),\n",
       " ('Curried Chicken and Brown Rice Casserole', 11.675049)]"
      ]
     },
     "execution_count": 21,
     "metadata": {},
     "output_type": "execute_result"
    }
   ],
   "source": [
    "results[:10]"
   ]
  },
  {
   "cell_type": "code",
   "execution_count": null,
   "metadata": {},
   "outputs": [],
   "source": []
  }
 ],
 "metadata": {
  "kernelspec": {
   "display_name": "Python 3",
   "language": "python",
   "name": "python3"
  },
  "language_info": {
   "codemirror_mode": {
    "name": "ipython",
    "version": 3
   },
   "file_extension": ".py",
   "mimetype": "text/x-python",
   "name": "python",
   "nbconvert_exporter": "python",
   "pygments_lexer": "ipython3",
   "version": "3.7.4"
  }
 },
 "nbformat": 4,
 "nbformat_minor": 2
}
