{
 "cells": [
  {
   "cell_type": "code",
   "execution_count": 1,
   "metadata": {},
   "outputs": [],
   "source": [
    "## If you run for first time uncomment these\n",
    "# !pip install elasticsearch\n",
    "from sklearn.feature_extraction.text import TfidfVectorizer\n",
    "from sklearn.metrics.pairwise import cosine_similarity\n",
    "import json\n",
    "from scipy import spatial\n",
    "from elasticsearch import Elasticsearch"
   ]
  },
  {
   "cell_type": "code",
   "execution_count": 2,
   "metadata": {},
   "outputs": [],
   "source": [
    "#Parameters\n",
    "no_of_recepies = 10000 #124473\n",
    "ingredient_list = 'Filterd_ingredient' # ingredients (otherwise)"
   ]
  },
  {
   "cell_type": "markdown",
   "metadata": {},
   "source": [
    "Reading Pickel File for Filtered Data and creating dictionary of recipes"
   ]
  },
  {
   "cell_type": "code",
   "execution_count": 3,
   "metadata": {},
   "outputs": [
    {
     "name": "stdout",
     "output_type": "stream",
     "text": [
      "CPU times: user 15.7 s, sys: 1.79 s, total: 17.5 s\n",
      "Wall time: 3min 19s\n"
     ]
    }
   ],
   "source": [
    "%%time\n",
    "# Gagan's Code\n",
    "import pandas as pd\n",
    "rec_df = pd.read_pickle(\"Cleaned_recipes.P\")\n",
    "rec_l = []\n",
    "temp_dict = rec_df.to_dict(orient='index')\n",
    "for ind in temp_dict:\n",
    "    rec_l.append(temp_dict[ind])\n",
    "es = Elasticsearch()\n",
    "for i in range(0,len(rec_l[:no_of_recepies])):\n",
    "    res = es.index(index='recipes', doc_type='recipe', id=i, body=rec_l[i])"
   ]
  },
  {
   "cell_type": "code",
   "execution_count": 9,
   "metadata": {},
   "outputs": [],
   "source": [
    "max_res = 10000"
   ]
  },
  {
   "cell_type": "code",
   "execution_count": 32,
   "metadata": {},
   "outputs": [
    {
     "data": {
      "text/html": [
       "<div>\n",
       "<style scoped>\n",
       "    .dataframe tbody tr th:only-of-type {\n",
       "        vertical-align: middle;\n",
       "    }\n",
       "\n",
       "    .dataframe tbody tr th {\n",
       "        vertical-align: top;\n",
       "    }\n",
       "\n",
       "    .dataframe thead th {\n",
       "        text-align: right;\n",
       "    }\n",
       "</style>\n",
       "<table border=\"1\" class=\"dataframe\">\n",
       "  <thead>\n",
       "    <tr style=\"text-align: right;\">\n",
       "      <th></th>\n",
       "      <th>ingredients</th>\n",
       "      <th>instructions</th>\n",
       "      <th>picture_link</th>\n",
       "      <th>title</th>\n",
       "      <th>filtered_ingredient</th>\n",
       "      <th>Filterd_ingredient</th>\n",
       "    </tr>\n",
       "  </thead>\n",
       "  <tbody>\n",
       "    <tr>\n",
       "      <td>rmK12Uau.ntP510KeImX506H6Mr6jTu</td>\n",
       "      <td>[4 skinless, boneless chicken breast halves AD...</td>\n",
       "      <td>Place the chicken, butter, soup, and onion in ...</td>\n",
       "      <td>55lznCYBbs2mT8BTx6BTkLhynGHzM.S</td>\n",
       "      <td>Slow Cooker Chicken and Dumplings</td>\n",
       "      <td>[skinless, boneless chicken breast, butter, co...</td>\n",
       "      <td>[skinless boneless chicken breast, butter, con...</td>\n",
       "    </tr>\n",
       "    <tr>\n",
       "      <td>5ZpZE8hSVdPk2ZXo1mZTyoPWJRSCPSm</td>\n",
       "      <td>[2 (10.75 ounce) cans condensed cream of mushr...</td>\n",
       "      <td>In a slow cooker, mix cream of mushroom soup, ...</td>\n",
       "      <td>QyrvGdGNMBA2lDdciY0FjKu.77MM0Oe</td>\n",
       "      <td>Awesome Slow Cooker Pot Roast</td>\n",
       "      <td>[condensed cream of mushroom soup, dry onion s...</td>\n",
       "      <td>[condensed cream  mushroom soup, dry onion sou...</td>\n",
       "    </tr>\n",
       "    <tr>\n",
       "      <td>clyYQv.CplpwJtjNaFGhx0VilNYqRxu</td>\n",
       "      <td>[1/2 cup packed brown sugar ADVERTISEMENT, 1/2...</td>\n",
       "      <td>Preheat oven to 350 degrees F (175 degrees C)....</td>\n",
       "      <td>LVW1DI0vtlCrpAhNSEQysE9i/7rJG56</td>\n",
       "      <td>Brown Sugar Meatloaf</td>\n",
       "      <td>[packed brown sugar, ketchup, lean ground beef...</td>\n",
       "      <td>[ brown sugar, ketchup, lean ground beef, milk...</td>\n",
       "    </tr>\n",
       "    <tr>\n",
       "      <td>BmqFAmCrDHiKNwX.IQzb0U/v0mLlxFu</td>\n",
       "      <td>[1 cup butter, softened ADVERTISEMENT, 1 cup w...</td>\n",
       "      <td>Preheat oven to 350 degrees F (175 degrees C)....</td>\n",
       "      <td>0SO5kdWOV94j6EfAVwMMYRM3yNN8eRi</td>\n",
       "      <td>Best Chocolate Chip Cookies</td>\n",
       "      <td>[butter, softened, white sugar, packed brown s...</td>\n",
       "      <td>[butter , white sugar,  brown sugar, eggs, van...</td>\n",
       "    </tr>\n",
       "    <tr>\n",
       "      <td>N.jCksRjB4MFwbgPFQU8Kg.yF.XCtOi</td>\n",
       "      <td>[8 ounces whole wheat rotini pasta ADVERTISEME...</td>\n",
       "      <td>Preheat oven to 350 degrees F. Line a 2-quart ...</td>\n",
       "      <td>YCnbhplMgiraW4rUXcybgSEZinSgljm</td>\n",
       "      <td>Homemade Mac and Cheese Casserole</td>\n",
       "      <td>[whole wheat rotini pasta, fresh broccoli flor...</td>\n",
       "      <td>[whole wheat rotini pasta, fresh broccoli flor...</td>\n",
       "    </tr>\n",
       "  </tbody>\n",
       "</table>\n",
       "</div>"
      ],
      "text/plain": [
       "                                                                       ingredients  \\\n",
       "rmK12Uau.ntP510KeImX506H6Mr6jTu  [4 skinless, boneless chicken breast halves AD...   \n",
       "5ZpZE8hSVdPk2ZXo1mZTyoPWJRSCPSm  [2 (10.75 ounce) cans condensed cream of mushr...   \n",
       "clyYQv.CplpwJtjNaFGhx0VilNYqRxu  [1/2 cup packed brown sugar ADVERTISEMENT, 1/2...   \n",
       "BmqFAmCrDHiKNwX.IQzb0U/v0mLlxFu  [1 cup butter, softened ADVERTISEMENT, 1 cup w...   \n",
       "N.jCksRjB4MFwbgPFQU8Kg.yF.XCtOi  [8 ounces whole wheat rotini pasta ADVERTISEME...   \n",
       "\n",
       "                                                                      instructions  \\\n",
       "rmK12Uau.ntP510KeImX506H6Mr6jTu  Place the chicken, butter, soup, and onion in ...   \n",
       "5ZpZE8hSVdPk2ZXo1mZTyoPWJRSCPSm  In a slow cooker, mix cream of mushroom soup, ...   \n",
       "clyYQv.CplpwJtjNaFGhx0VilNYqRxu  Preheat oven to 350 degrees F (175 degrees C)....   \n",
       "BmqFAmCrDHiKNwX.IQzb0U/v0mLlxFu  Preheat oven to 350 degrees F (175 degrees C)....   \n",
       "N.jCksRjB4MFwbgPFQU8Kg.yF.XCtOi  Preheat oven to 350 degrees F. Line a 2-quart ...   \n",
       "\n",
       "                                                    picture_link  \\\n",
       "rmK12Uau.ntP510KeImX506H6Mr6jTu  55lznCYBbs2mT8BTx6BTkLhynGHzM.S   \n",
       "5ZpZE8hSVdPk2ZXo1mZTyoPWJRSCPSm  QyrvGdGNMBA2lDdciY0FjKu.77MM0Oe   \n",
       "clyYQv.CplpwJtjNaFGhx0VilNYqRxu  LVW1DI0vtlCrpAhNSEQysE9i/7rJG56   \n",
       "BmqFAmCrDHiKNwX.IQzb0U/v0mLlxFu  0SO5kdWOV94j6EfAVwMMYRM3yNN8eRi   \n",
       "N.jCksRjB4MFwbgPFQU8Kg.yF.XCtOi  YCnbhplMgiraW4rUXcybgSEZinSgljm   \n",
       "\n",
       "                                                             title  \\\n",
       "rmK12Uau.ntP510KeImX506H6Mr6jTu  Slow Cooker Chicken and Dumplings   \n",
       "5ZpZE8hSVdPk2ZXo1mZTyoPWJRSCPSm      Awesome Slow Cooker Pot Roast   \n",
       "clyYQv.CplpwJtjNaFGhx0VilNYqRxu               Brown Sugar Meatloaf   \n",
       "BmqFAmCrDHiKNwX.IQzb0U/v0mLlxFu        Best Chocolate Chip Cookies   \n",
       "N.jCksRjB4MFwbgPFQU8Kg.yF.XCtOi  Homemade Mac and Cheese Casserole   \n",
       "\n",
       "                                                               filtered_ingredient  \\\n",
       "rmK12Uau.ntP510KeImX506H6Mr6jTu  [skinless, boneless chicken breast, butter, co...   \n",
       "5ZpZE8hSVdPk2ZXo1mZTyoPWJRSCPSm  [condensed cream of mushroom soup, dry onion s...   \n",
       "clyYQv.CplpwJtjNaFGhx0VilNYqRxu  [packed brown sugar, ketchup, lean ground beef...   \n",
       "BmqFAmCrDHiKNwX.IQzb0U/v0mLlxFu  [butter, softened, white sugar, packed brown s...   \n",
       "N.jCksRjB4MFwbgPFQU8Kg.yF.XCtOi  [whole wheat rotini pasta, fresh broccoli flor...   \n",
       "\n",
       "                                                                Filterd_ingredient  \n",
       "rmK12Uau.ntP510KeImX506H6Mr6jTu  [skinless boneless chicken breast, butter, con...  \n",
       "5ZpZE8hSVdPk2ZXo1mZTyoPWJRSCPSm  [condensed cream  mushroom soup, dry onion sou...  \n",
       "clyYQv.CplpwJtjNaFGhx0VilNYqRxu  [ brown sugar, ketchup, lean ground beef, milk...  \n",
       "BmqFAmCrDHiKNwX.IQzb0U/v0mLlxFu  [butter , white sugar,  brown sugar, eggs, van...  \n",
       "N.jCksRjB4MFwbgPFQU8Kg.yF.XCtOi  [whole wheat rotini pasta, fresh broccoli flor...  "
      ]
     },
     "execution_count": 32,
     "metadata": {},
     "output_type": "execute_result"
    }
   ],
   "source": [
    "rec_df.head()\n",
    "# %%time\n",
    "# recipes = []\n",
    "# with open('recipes_raw_nosource_ar.json') as json_file: #make sure the recipe json is in same dir\n",
    "#     data = json.load(json_file)\n",
    "#     for p in data:\n",
    "#         recipes.append(data[p])\n",
    "# es = Elasticsearch()\n",
    "# for i in range(0,len(recipes[:500])): #i took only first 120 recipes because time and size\n",
    "#     res = es.index(index='recipes', doc_type='recipe', id=i, body=recipes[i])"
   ]
  },
  {
   "cell_type": "code",
   "execution_count": 4,
   "metadata": {},
   "outputs": [],
   "source": [
    "def giveResults(query, last, wish,title,instructions,ingredients):\n",
    "    res = es.search(index=\"recipes\", body={\"query\": {\"bool\": { \"must\": [{\"match\":{ingredient_list:query} }]}},\"size\":max_res})\n",
    "    mscores = [] # new scores for personalized results\n",
    "    m2scores = [] #new scores for advanced personalized results\n",
    "    results = [] #unpersonalized\n",
    "    presults = [] #personalized \n",
    "    p2results = [] #adv personalized\n",
    "    for hit in res['hits']['hits']:\n",
    "        if title:\n",
    "            results.append((hit['_source']['title'],hit['_score']))\n",
    "        if ingredients:\n",
    "            results.append((hit['_source'][ingredient_list]))\n",
    "        if instructions: \n",
    "            results.append((hit['_source']['instructions']))\n",
    "        ingr = ''\n",
    "        for s in hit['_source'][ingredient_list]:\n",
    "            ingr += s\n",
    "        ldocuments = (ingr,last)\n",
    "        wdocuments = (ingr,wish)\n",
    "        tfidf_vectorizer=TfidfVectorizer()\n",
    "        tfidf_last=tfidf_vectorizer.fit_transform(ldocuments)\n",
    "        tfidf_wish=tfidf_vectorizer.fit_transform(wdocuments)\n",
    "        cs = -100 * cosine_similarity(tfidf_last[0:1],tfidf_last)\n",
    "        ds = 100 * cosine_similarity(tfidf_wish[0:1],tfidf_wish)\n",
    "        mscores.append((hit['_source'],hit['_score']+cs[0][1]))\n",
    "        m2scores.append((hit['_source'],hit['_score']+cs[0][1]+ds[0][1]))\n",
    "    mscores.sort(key=lambda t: t[1],reverse=True)\n",
    "    m2scores.sort(key=lambda t: t[1],reverse=True)\n",
    "    for t in mscores:\n",
    "        if title:\n",
    "            presults.append((t[0]['title'],t[1]))\n",
    "        if instructions:\n",
    "            presults.append((t[0]['instructions'],t[1]))\n",
    "        if ingredients:\n",
    "            presults.append((t[0][ingredient_list],t[1]))\n",
    "    for t in m2scores:\n",
    "        if title:\n",
    "            p2results.append((t[0]['title'],t[1]))\n",
    "        if instructions:\n",
    "            p2results.append((t[0]['instructions'],t[1]))\n",
    "        if ingredients:\n",
    "            p2results.append((t[0][ingredient_list],t[1]))\n",
    "    return presults,p2results, results"
   ]
  },
  {
   "cell_type": "code",
   "execution_count": 5,
   "metadata": {},
   "outputs": [],
   "source": [
    "def getInput():\n",
    "    query = input(\"Enter whatever ingredients you have in your pantry seperated by whitespaces: \")\n",
    "    last = input(\"Enter at least 5 ingredients you ate last week seperated by whitespace: \")\n",
    "    wish = input(\"List anything you would like to eat. You can also just skip this.\")\n",
    "    return query,last,wish"
   ]
  },
  {
   "cell_type": "code",
   "execution_count": 6,
   "metadata": {},
   "outputs": [],
   "source": [
    "def giveRecipes(title, instructions,ingredients):\n",
    "    query,last,wish = getInput()\n",
    "    print(query)\n",
    "    personalized, personalized2, standard = giveResults(query,last,wish,title,instructions,ingredients)\n",
    "    return personalized, personalized2, standard"
   ]
  },
  {
   "cell_type": "code",
   "execution_count": 18,
   "metadata": {},
   "outputs": [
    {
     "name": "stdout",
     "output_type": "stream",
     "text": [
      "Enter whatever ingredients you have in your pantry seperated by whitespaces: paprika beans lentils tomatoes parmigiana cheese butter pasta rice meat kale spinach almonds \n",
      "Enter at least 5 ingredients you ate last week seperated by whitespace: asparagus couscous steak potatoes broccoli carote brussel+sprout  \n",
      "List anything you would like to eat. You can also just skip this.soup\n",
      "paprika beans lentils tomatoes parmigiana cheese butter pasta rice meat kale spinach almonds \n"
     ]
    }
   ],
   "source": [
    "p1,p2,s = giveRecipes(title=True,instructions=False,ingredients=True)"
   ]
  },
  {
   "cell_type": "code",
   "execution_count": 19,
   "metadata": {
    "scrolled": false
   },
   "outputs": [
    {
     "name": "stdout",
     "output_type": "stream",
     "text": [
      "('Greek Pasta with Tomatoes and White Beans', 18.30928)\n",
      "['italian-style tomatoes', 'cannellini beans   ', 'fresh spinach  ', 'penne pasta', ' feta cheese']\n",
      "('Harira', 16.801353)\n",
      "[' lamb meat', 'ground turmeric', 'ground black pepper', 'ground cinnamon', 'ground ginger', 'ground  ', 'margarine', 'celery', 'onion', 'red onion', 'fresh cilantro', 'tomatoes', 'water', 'green lentils', 'garbanzo beans ', 'vermicelli pasta', 'eggs ', 'lemon ']\n",
      "('10-Minute Ham, White Bean and Kale Salad', 15.969154)\n",
      "['  white beans   ', ' deli meat such  ham  turkey', 'baby kale', ' cranberries', 'manchego cheese', 'dinner rolls  ', ' almonds', 'red wine vinegar', 'dijon mustard', 'kosher salt   ground black pepper', 'extra-virgin olive oil', '']\n",
      "(\"Sarah's Feta Rice Pilaf\", 15.507189)\n",
      "['butter', 'orzo pasta', 'onion', 'cloves garlic ', 'white rice', 'chicken broth', 'spinach', 'bulgarian feta cheese']\n",
      "('Tomato Orzo Soup with Kale', 15.2933655)\n",
      "['beef stock', 'orzo pasta', 'fire-roasted tomatoes  juice', 'tomato soup', 'kidney beans   ', 'cannellini beans   ', 'chicken bouillon powder', 'pinch  red pepper flakes   ', 'bunch kale']\n",
      "(\"Kate's Kale Couscous \", 15.13045)\n",
      "['water', 'butter', 'whole wheat couscous', 'extra-virgin olive oil', 'cannellini beans   ', 'kale', 'cloves ', 'whole  almonds ', ' parmesan cheese', 'salt   ground black pepper  ']\n",
      "('Spinach and Black Bean Pasta', 14.673757)\n",
      "['whole wheat rotini pasta', 'vegetable broth', 'fresh spinach', 'red onion', ' garlic', 'cayenne pepper', 'salt  pepper  ', 'black beans   ', 'frozen broccoli', 'tomatoes', '  parmesan cheese']\n",
      "('Easy Southwestern Chicken', 14.595076)\n",
      "['ground cumin', 'garlic salt', 'ground  chipotle pepper', 'paprika', 'tomatoes  green chile peppers', 'black beans', 'whole kernel corn', 'skinless boneless chicken breast meat  cut  cubes', 'olive oil', 'red onion', 'uncooked instant rice', ' cheddar cheese']\n",
      "('Spinach Mushroom and Ricotta Fettuccine', 14.568438)\n",
      "['spinach fettuccine pasta', 'butter', 'mushrooms', 'frozen spinach', 'container  cheese', 'lemon ']\n",
      "('Best Green Juice Recipe', 14.542064)\n",
      "['gala apple    ', 'leaves kale', 'fresh coconut meat', 'cucumber', 'stalk celery', 'spinach', 'coconut water', 'almond milk', 'water', 'lemon ']\n"
     ]
    }
   ],
   "source": [
    "for res in s[:20]:\n",
    "    print(res)#standard"
   ]
  },
  {
   "cell_type": "code",
   "execution_count": 21,
   "metadata": {
    "scrolled": false
   },
   "outputs": [
    {
     "name": "stdout",
     "output_type": "stream",
     "text": [
      "('Greek Pasta with Tomatoes and White Beans', 18.30928)\n",
      "(['italian-style tomatoes', 'cannellini beans   ', 'fresh spinach  ', 'penne pasta', ' feta cheese'], 18.30928)\n",
      "('Harira', 16.801353)\n",
      "([' lamb meat', 'ground turmeric', 'ground black pepper', 'ground cinnamon', 'ground ginger', 'ground  ', 'margarine', 'celery', 'onion', 'red onion', 'fresh cilantro', 'tomatoes', 'water', 'green lentils', 'garbanzo beans ', 'vermicelli pasta', 'eggs ', 'lemon '], 16.801353)\n",
      "('10-Minute Ham, White Bean and Kale Salad', 15.969154)\n",
      "(['  white beans   ', ' deli meat such  ham  turkey', 'baby kale', ' cranberries', 'manchego cheese', 'dinner rolls  ', ' almonds', 'red wine vinegar', 'dijon mustard', 'kosher salt   ground black pepper', 'extra-virgin olive oil', ''], 15.969154)\n",
      "(\"Sarah's Feta Rice Pilaf\", 15.507189)\n",
      "(['butter', 'orzo pasta', 'onion', 'cloves garlic ', 'white rice', 'chicken broth', 'spinach', 'bulgarian feta cheese'], 15.507189)\n",
      "('Tomato Orzo Soup with Kale', 15.2933655)\n",
      "(['beef stock', 'orzo pasta', 'fire-roasted tomatoes  juice', 'tomato soup', 'kidney beans   ', 'cannellini beans   ', 'chicken bouillon powder', 'pinch  red pepper flakes   ', 'bunch kale'], 15.2933655)\n",
      "(\"Kate's Kale Couscous \", 15.13045)\n",
      "(['water', 'butter', 'whole wheat couscous', 'extra-virgin olive oil', 'cannellini beans   ', 'kale', 'cloves ', 'whole  almonds ', ' parmesan cheese', 'salt   ground black pepper  '], 15.13045)\n",
      "('Spinach and Black Bean Pasta', 14.673757)\n",
      "(['whole wheat rotini pasta', 'vegetable broth', 'fresh spinach', 'red onion', ' garlic', 'cayenne pepper', 'salt  pepper  ', 'black beans   ', 'frozen broccoli', 'tomatoes', '  parmesan cheese'], 14.673757)\n",
      "('Easy Southwestern Chicken', 14.595076)\n",
      "(['ground cumin', 'garlic salt', 'ground  chipotle pepper', 'paprika', 'tomatoes  green chile peppers', 'black beans', 'whole kernel corn', 'skinless boneless chicken breast meat  cut  cubes', 'olive oil', 'red onion', 'uncooked instant rice', ' cheddar cheese'], 14.595076)\n",
      "('Spinach Mushroom and Ricotta Fettuccine', 14.568438)\n",
      "(['spinach fettuccine pasta', 'butter', 'mushrooms', 'frozen spinach', 'container  cheese', 'lemon '], 14.568438)\n",
      "('Best Green Juice Recipe', 14.542064)\n",
      "(['gala apple    ', 'leaves kale', 'fresh coconut meat', 'cucumber', 'stalk celery', 'spinach', 'coconut water', 'almond milk', 'water', 'lemon '], 14.542064)\n"
     ]
    }
   ],
   "source": [
    "for res in p1[:20]:\n",
    "    print(res)#personalized using only last week"
   ]
  },
  {
   "cell_type": "code",
   "execution_count": 22,
   "metadata": {},
   "outputs": [
    {
     "name": "stdout",
     "output_type": "stream",
     "text": [
      "('Shrimp and Spinach Noodle Soup', 48.39046915910079)\n",
      "(['water', 'pasta', 'packets  soup base', 'shrimp   ', 'spinach'], 48.39046915910079)\n",
      "('Slow Cooker Manly Stew', 48.05559149521847)\n",
      "(['condensed cream  mushroom soup', ' cheddar cheese soup', 'beef  onion soup mix', 'beef stew meat'], 48.05559149521847)\n",
      "('Minestrone To Die For', 42.72052115091341)\n",
      "([' stew meat  round steak', ' minestrone soup', ' tomato soup', 'water', 'dry onion soup mix'], 42.72052115091341)\n",
      "('Slow Cooker Beef and Mushrooms', 41.82789697176422)\n",
      "([' beef stew meat', ' golden mushroom soup', ' mushrooms ', 'dry onion soup mix', 'red wine', 'pinch black pepper  ', 'uncooked white rice', 'water'], 41.82789697176422)\n",
      "('Jicama Spinach Dip', 41.30286397176422)\n",
      "(['mayonnaise', 'containers  cream', 'dry leek soup mix', 'packet dry vegetable soup mix', 'paprika', ' ground black pepper', 'jicama   ', 'red bell pepper', 'green onions', 'frozen spinach   '], 41.30286397176422)\n",
      "('Two by Four Stew', 40.678569832792604)\n",
      "(['ground beef', 'tomatoes', 'ranch-style beans', 'minestrone soup'], 40.678569832792604)\n",
      "('Butter Beef', 34.94229853258252)\n",
      "([' beef stew meat', 'butter', 'envelope dry onion soup mix'], 34.94229853258252)\n",
      "('Blisters on My Sisters ', 34.29332985859527)\n",
      "(['corn tortillas ', ' white rice', 'cuban black bean soup   black bean soup  black beans ', 'roma tomatoes  ', ' jalapeño  chipotle peppers', 'extra-large eggs', 'big handfuls  arugula'], 34.29332985859527)\n",
      "('Almond Chicken Casserole II', 34.19831062782169)\n",
      "(['uncooked long-grain rice', 'butter', 'onion', 'celery', '  breast meat', 'mayonnaise', 'condensed cream  chicken soup', '  almonds', ' cornflake crumbs', 'butter'], 34.19831062782169)\n",
      "('Lazy Pierogi', 33.96252613258252)\n",
      "(['sauerkraut', 'onion', 'uncooked rotini pasta', 'fresh mushrooms', 'butter', 'condensed cream  mushroom soup'], 33.96252613258252)\n"
     ]
    }
   ],
   "source": [
    "for res in p2[:20]:\n",
    "    print(res)#personalized using last week and wish"
   ]
  },
  {
   "cell_type": "code",
   "execution_count": 5,
   "metadata": {},
   "outputs": [
    {
     "name": "stdout",
     "output_type": "stream",
     "text": [
      "3.7.4 (default, Aug 13 2019, 15:17:50) \n",
      "[Clang 4.0.1 (tags/RELEASE_401/final)]\n"
     ]
    }
   ],
   "source": [
    "import sys\n",
    "print(sys.version)"
   ]
  },
  {
   "cell_type": "code",
   "execution_count": null,
   "metadata": {},
   "outputs": [],
   "source": []
  }
 ],
 "metadata": {
  "kernelspec": {
   "display_name": "Python 3",
   "language": "python",
   "name": "python3"
  },
  "language_info": {
   "codemirror_mode": {
    "name": "ipython",
    "version": 3
   },
   "file_extension": ".py",
   "mimetype": "text/x-python",
   "name": "python",
   "nbconvert_exporter": "python",
   "pygments_lexer": "ipython3",
   "version": "3.7.4"
  }
 },
 "nbformat": 4,
 "nbformat_minor": 2
}
