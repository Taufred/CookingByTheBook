{
 "cells": [
  {
   "cell_type": "code",
   "execution_count": null,
   "metadata": {},
   "outputs": [],
   "source": [
    "## If you run for first time uncomment these\n",
    "#!pip install elasticsearch"
   ]
  },
  {
   "cell_type": "code",
   "execution_count": 32,
   "metadata": {},
   "outputs": [],
   "source": [
    "import json\n",
    "recipes = []\n",
    "with open('recipes_raw_nosource_ar.json') as json_file: #make sure the recipe json is in same dir\n",
    "    data = json.load(json_file)\n",
    "    for p in data:\n",
    "        recipes.append(data[p])"
   ]
  },
  {
   "cell_type": "code",
   "execution_count": 38,
   "metadata": {},
   "outputs": [],
   "source": [
    "from elasticsearch import Elasticsearch"
   ]
  },
  {
   "cell_type": "code",
   "execution_count": 59,
   "metadata": {},
   "outputs": [],
   "source": [
    "es = Elasticsearch()"
   ]
  },
  {
   "cell_type": "code",
   "execution_count": 60,
   "metadata": {},
   "outputs": [
    {
     "name": "stdout",
     "output_type": "stream",
     "text": [
      "0 created\n",
      "1 created\n",
      "2 created\n",
      "3 created\n",
      "4 created\n",
      "5 created\n",
      "6 created\n",
      "7 created\n",
      "8 created\n",
      "9 created\n",
      "10 created\n",
      "11 created\n",
      "12 created\n",
      "13 created\n",
      "14 created\n",
      "15 created\n",
      "16 created\n",
      "17 created\n",
      "18 created\n",
      "19 created\n",
      "20 created\n",
      "21 created\n",
      "22 created\n",
      "23 created\n",
      "24 created\n",
      "25 created\n",
      "26 created\n",
      "27 created\n",
      "28 created\n",
      "29 created\n"
     ]
    }
   ],
   "source": [
    "for i in range(0,len(recipes[:30])): #i took only first 30 recipes because time and size\n",
    "    res = es.index(index='recipes', doc_type='recipe', id=i, body=recipes[i])\n",
    "    print(str(i) + \" \" + res['result'])\n"
   ]
  },
  {
   "cell_type": "code",
   "execution_count": 62,
   "metadata": {},
   "outputs": [
    {
     "name": "stdout",
     "output_type": "stream",
     "text": [
      "{'title': 'Brown Sugar Meatloaf', 'ingredients': ['1/2 cup packed brown sugar ADVERTISEMENT', '1/2 cup ketchup ADVERTISEMENT', '1 1/2 pounds lean ground beef ADVERTISEMENT', '3/4 cup milk ADVERTISEMENT', '2 eggs ADVERTISEMENT', '1 1/2 teaspoons salt ADVERTISEMENT', '1/4 teaspoon ground black pepper ADVERTISEMENT', '1 small onion, chopped ADVERTISEMENT', '1/4 teaspoon ground ginger ADVERTISEMENT', '3/4 cup finely crushed saltine cracker crumbs ADVERTISEMENT', 'ADVERTISEMENT'], 'instructions': 'Preheat oven to 350 degrees F (175 degrees C). Lightly grease a 5x9 inch loaf pan.\\nPress the brown sugar in the bottom of the prepared loaf pan and spread the ketchup over the sugar.\\nIn a mixing bowl, mix thoroughly all remaining ingredients and shape into a loaf. Place on top of the ketchup.\\nBake in preheated oven for 1 hour or until juices are clear.\\n', 'picture_link': 'LVW1DI0vtlCrpAhNSEQysE9i/7rJG56'}\n"
     ]
    }
   ],
   "source": [
    "res = es.get(index=\"recipes\", doc_type='recipe', id=2)\n",
    "print(res['_source'])"
   ]
  },
  {
   "cell_type": "code",
   "execution_count": 96,
   "metadata": {},
   "outputs": [],
   "source": [
    "res = es.search(index=\"recipes\", body={\"query\": {\"bool\": { \"must\": [{\"match\":{\"ingredients\":\"beef chicken\"} }]}}})\n",
    "\n"
   ]
  },
  {
   "cell_type": "code",
   "execution_count": 97,
   "metadata": {},
   "outputs": [
    {
     "name": "stdout",
     "output_type": "stream",
     "text": [
      "Got 9 Hits:\n",
      "Slow Cooker Chicken and Dumplings\n",
      "Brown Sugar Meatloaf\n",
      "Chicken Pot Pie IX\n",
      "Zesty Slow Cooker Chicken Barbecue\n",
      "Irish Lamb Stew\n",
      "Ang's Balsamic Maple Chicken\n",
      "World's Best Lasagna\n",
      "Delicious Ham and Potato Soup\n",
      "Singapore Chili Crabs\n"
     ]
    }
   ],
   "source": [
    "print(\"Got %d Hits:\" % res['hits']['total']['value'])\n",
    "for hit in res['hits']['hits']:\n",
    "    print( hit[\"_source\"]['title'])\n",
    "    #print( hit[\"_source\"]['ingredients'])"
   ]
  },
  {
   "cell_type": "code",
   "execution_count": null,
   "metadata": {},
   "outputs": [],
   "source": []
  }
 ],
 "metadata": {
  "kernelspec": {
   "display_name": "Python 3",
   "language": "python",
   "name": "python3"
  },
  "language_info": {
   "codemirror_mode": {
    "name": "ipython",
    "version": 3
   },
   "file_extension": ".py",
   "mimetype": "text/x-python",
   "name": "python",
   "nbconvert_exporter": "python",
   "pygments_lexer": "ipython3",
   "version": "3.7.4"
  }
 },
 "nbformat": 4,
 "nbformat_minor": 2
}
