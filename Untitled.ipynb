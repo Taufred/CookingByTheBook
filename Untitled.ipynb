{
 "cells": [
  {
   "cell_type": "code",
   "execution_count": 1,
   "metadata": {},
   "outputs": [],
   "source": [
    "from sklearn.feature_extraction.text import TfidfVectorizer\n",
    "from sklearn.metrics.pairwise import cosine_similarity\n",
    "import json\n",
    "from scipy import spatial\n",
    "from elasticsearch import Elasticsearch"
   ]
  },
  {
   "cell_type": "code",
   "execution_count": 61,
   "metadata": {},
   "outputs": [
    {
     "name": "stdout",
     "output_type": "stream",
     "text": [
      "dict_keys(['ingr'])\n",
      "dict_keys(['ingr'])\n",
      "dict_keys(['ingr'])\n"
     ]
    }
   ],
   "source": [
    "es = Elasticsearch()\n",
    "recipes = [{\"ingr\":\"brown sugar\"},{\"ingr\":\"white rice\"},{\"ingr\":\"teaspoon parsley\"}]\n",
    "\n",
    "for i in range(0,len(recipes)):\n",
    "    print(recipes[i].keys())\n",
    "    res = es.index(index='wds', body=recipes[i])"
   ]
  },
  {
   "cell_type": "code",
   "execution_count": 62,
   "metadata": {},
   "outputs": [],
   "source": [
    "a = {\"ingr\":\"chicken breast\"}"
   ]
  },
  {
   "cell_type": "code",
   "execution_count": 63,
   "metadata": {},
   "outputs": [],
   "source": [
    "res = es.search(index=\"wds\", body={\"query\": {\"bool\": { \"must\": [{\"match\":{'ingr':\"brown rice\"} }]}},\"size\":5})\n",
    "\n"
   ]
  },
  {
   "cell_type": "code",
   "execution_count": 64,
   "metadata": {},
   "outputs": [
    {
     "name": "stdout",
     "output_type": "stream",
     "text": [
      "{'ingr': 'brown sugar'} 0.9808292\n",
      "{'ingr': 'white rice'} 0.9808292\n"
     ]
    }
   ],
   "source": [
    "for hit in res['hits']['hits']:\n",
    "    print(hit['_source'],hit['_score'])"
   ]
  },
  {
   "cell_type": "code",
   "execution_count": null,
   "metadata": {},
   "outputs": [],
   "source": []
  }
 ],
 "metadata": {
  "kernelspec": {
   "display_name": "Python 3",
   "language": "python",
   "name": "python3"
  },
  "language_info": {
   "codemirror_mode": {
    "name": "ipython",
    "version": 3
   },
   "file_extension": ".py",
   "mimetype": "text/x-python",
   "name": "python",
   "nbconvert_exporter": "python",
   "pygments_lexer": "ipython3",
   "version": "3.7.4"
  }
 },
 "nbformat": 4,
 "nbformat_minor": 2
}
